{
 "cells": [
  {
   "cell_type": "code",
   "execution_count": 1,
   "id": "c620accd",
   "metadata": {},
   "outputs": [],
   "source": [
    "import re\n",
    "\n",
    "q1=\"A\"\n",
    "q2=\"C\"\n",
    "q3=\"B\"\n",
    "q4=\"A\"\n",
    "q5=\"B\"\n",
    "q6=\"B\"\n",
    "q7=\"B\"\n",
    "q8=\"B\"\n",
    "q9=\"B\"\n",
    "q10=\"A\"\n",
    "q11=\"A\"\n",
    "q12=\"C\"\n",
    "q13=\"B\"\n",
    "q14=\"A\"\n",
    "q15=\"B\"\n",
    "q16=\"A\"\n",
    "q17=\"B\"\n",
    "q18=\"A\"\n",
    "q19=\"A\"\n",
    "q20=\"B\"\n"
   ]
  },
  {
   "cell_type": "code",
   "execution_count": 8,
   "id": "05f0d475",
   "metadata": {},
   "outputs": [
    {
     "name": "stdout",
     "output_type": "stream",
     "text": [
      "[1, 2, 4, 4, 5, 6, 2, 3, 4, 3, 6, 5, 4, 6, 4, 4, 3, 4, 3, 6, 4, 7]\n"
     ]
    }
   ],
   "source": [
    "pattern = r\"\\d\"\n",
    "\n",
    "text = input(\"Enter your text:\")\n",
    "\n",
    "matches = re.findall(pattern,text)\n",
    "res=list(map(int,matches))\n",
    "print(res)"
   ]
  },
  {
   "cell_type": "code",
   "execution_count": 9,
   "id": "4549c381",
   "metadata": {},
   "outputs": [
    {
     "name": "stdout",
     "output_type": "stream",
     "text": [
      "This is a sample text for texting the code\n"
     ]
    }
   ],
   "source": [
    "def replace_multiple_spaces_with_single(text):\n",
    "    return re.sub(r'\\s+', ' ', text)\n",
    "\n",
    "\n",
    "text=input(\"Enter Text: \")\n",
    "res=replace_multiple_spaces_with_single(text)\n",
    "print(res)"
   ]
  },
  {
   "cell_type": "code",
   "execution_count": 11,
   "id": "bdd98e1e",
   "metadata": {},
   "outputs": [
    {
     "name": "stdout",
     "output_type": "stream",
     "text": [
      "['info@example.com', 'support@help.example.org', 'careers.hr@company.co.in', 'john_doe123@sub.mail-server.com', 'alice+test@dev.example.dev', 'alerts@notify.company.io', 'no-reply@system.company.net', 'feedback@example.travel', 'events-2024@calendar.example.co.uk']\n"
     ]
    }
   ],
   "source": [
    "text=input(\"Enter Text: \")\n",
    "\n",
    "pattern=r'\\b[a-zA-Z0-9._%+-]+@[a-zA-Z0-9.-]+\\.\\w{2,}\\b'\n",
    "\n",
    "emails=re.findall(pattern,text)\n",
    "print(emails)"
   ]
  },
  {
   "cell_type": "code",
   "execution_count": null,
   "id": "0cc7ac2a",
   "metadata": {},
   "outputs": [],
   "source": []
  }
 ],
 "metadata": {
  "kernelspec": {
   "display_name": "Python 3",
   "language": "python",
   "name": "python3"
  },
  "language_info": {
   "codemirror_mode": {
    "name": "ipython",
    "version": 3
   },
   "file_extension": ".py",
   "mimetype": "text/x-python",
   "name": "python",
   "nbconvert_exporter": "python",
   "pygments_lexer": "ipython3",
   "version": "3.12.0"
  }
 },
 "nbformat": 4,
 "nbformat_minor": 5
}
