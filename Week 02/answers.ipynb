{
 "cells": [
  {
   "cell_type": "code",
   "execution_count": 1,
   "id": "e9a758ce",
   "metadata": {},
   "outputs": [],
   "source": [
    "q1=\"A\"\n",
    "q2=\"B\"\n",
    "q3=\"B\"\n",
    "q4=\"C\"\n",
    "q5=\"C\"\n",
    "q6=\"B\"\n",
    "q7=\"A\"\n",
    "q8=\"B\"\n",
    "q9=\"B\"\n",
    "q10=\"B\"\n",
    "q11=\"A\"\n",
    "q12=\"B\"\n",
    "q13=\"A\"\n",
    "q14=\"B\"\n",
    "q15=\"B\"\n",
    "q16=\"B\"\n",
    "q17=\"A\"\n",
    "q18=\"B\"\n",
    "q19=\"C\"\n",
    "q20=\"C\"\n"
   ]
  },
  {
   "cell_type": "code",
   "execution_count": 4,
   "id": "875984de",
   "metadata": {},
   "outputs": [
    {
     "name": "stdout",
     "output_type": "stream",
     "text": [
      "Double of 5 is 10\n"
     ]
    }
   ],
   "source": [
    "#coding questions Q1 - Write a function that uses a lambda to double a number\n",
    "double_number = lambda x: x * 2\n",
    "\n",
    "\n",
    "num = int(input(\"Enter a number: \"))\n",
    "result = double_number(num)\n",
    "print(f\"Double of {num} is {result}\")"
   ]
  },
  {
   "cell_type": "code",
   "execution_count": 7,
   "id": "1ba94962",
   "metadata": {},
   "outputs": [
    {
     "name": "stdout",
     "output_type": "stream",
     "text": [
      "[]\n"
     ]
    }
   ],
   "source": [
    "arr=eval(input(\"Enter a list: \"))\n",
    "res=list(filter(lambda x:x%2==0,arr))\n",
    "print(res)"
   ]
  },
  {
   "cell_type": "code",
   "execution_count": null,
   "id": "47b892c9",
   "metadata": {},
   "outputs": [
    {
     "name": "stdout",
     "output_type": "stream",
     "text": [
      "[2, 3, 4]\n",
      "[]\n"
     ]
    }
   ],
   "source": [
    "a = [1,2,3]\n",
    "b = map(lambda x: x+1, a)\n",
    "print(list(b))\n",
    "print(list(b))"
   ]
  },
  {
   "cell_type": "code",
   "execution_count": 16,
   "id": "6468266e",
   "metadata": {},
   "outputs": [
    {
     "name": "stdout",
     "output_type": "stream",
     "text": [
      "Execution time: 0.45613646507263184 seconds\n",
      "Execution time: 0.0 seconds\n",
      "50000004999999\n",
      "6\n"
     ]
    }
   ],
   "source": [
    "import time \n",
    "\n",
    "def decorator(func):\n",
    "    def wrapper(*args, **kwargs):\n",
    "        start_time = time.time()\n",
    "        result = func(*args, **kwargs)\n",
    "        end_time = time.time()\n",
    "        print(f\"Execution time: {end_time - start_time} seconds\")\n",
    "        return result\n",
    "    return wrapper\n",
    "\n",
    "@decorator\n",
    "def add_numbers(a, b):\n",
    "    return sum(range(a, b + 1))\n",
    "\n",
    "@decorator    \n",
    "def multiply(a, b):\n",
    "    return a * b\n",
    "\n",
    "res1=add_numbers(2,10000000)\n",
    "res2=multiply(2, 3)\n",
    "print(res1)\n",
    "print(res2)\n",
    "\n"
   ]
  },
  {
   "cell_type": "code",
   "execution_count": 26,
   "id": "656a6f59",
   "metadata": {},
   "outputs": [
    {
     "name": "stdout",
     "output_type": "stream",
     "text": [
      "[3, 2, 1, 2, 3]\n"
     ]
    }
   ],
   "source": [
    "def recursive(n):\n",
    "    if n==1:\n",
    "        return [1]\n",
    "    else:\n",
    "        return [n]+recursive(n-1)+[n]\n",
    "\n",
    "res=recursive(3)\n",
    "print(res)"
   ]
  },
  {
   "cell_type": "code",
   "execution_count": null,
   "id": "1ee47d1a",
   "metadata": {},
   "outputs": [],
   "source": []
  }
 ],
 "metadata": {
  "kernelspec": {
   "display_name": "Python 3",
   "language": "python",
   "name": "python3"
  },
  "language_info": {
   "codemirror_mode": {
    "name": "ipython",
    "version": 3
   },
   "file_extension": ".py",
   "mimetype": "text/x-python",
   "name": "python",
   "nbconvert_exporter": "python",
   "pygments_lexer": "ipython3",
   "version": "3.12.0"
  }
 },
 "nbformat": 4,
 "nbformat_minor": 5
}
