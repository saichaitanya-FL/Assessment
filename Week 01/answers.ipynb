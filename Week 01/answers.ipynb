{
 "cells": [
  {
   "cell_type": "code",
   "execution_count": null,
   "id": "f8e82397",
   "metadata": {},
   "outputs": [],
   "source": [
    "q1=\"B\"\n",
    "q2=\"B\"\n",
    "q3=\"C\"\n",
    "q4=\"B\"\n",
    "q5=\"B\"\n",
    "q6=\"D\"\n",
    "q7=\"B\"\n",
    "q8=\"C\"\n",
    "q9=\"B\"\n",
    "q10=\"C\"\n",
    "q11=\"D\"\n",
    "q12=\"B\"\n",
    "q13=\"B\"\n",
    "q14=\"B\"\n",
    "q15=\"C\"\n",
    "q16=\"B\"\n",
    "q17=\"C\"\n",
    "q18=\"B\"\n",
    "q19=\"C\"\n",
    "q20=\"C\"\n"
   ]
  },
  {
   "cell_type": "code",
   "execution_count": null,
   "id": "58a5679e",
   "metadata": {},
   "outputs": [
    {
     "name": "stdout",
     "output_type": "stream",
     "text": [
      "20\n"
     ]
    }
   ],
   "source": [
    "#coding questions Q1\n",
    "def add_two_numbers(n1:int,n2:int)->int:\n",
    "    return n1+n2\n",
    "\n",
    "num1=int(input(\"Enter Number-1: \"))\n",
    "num2=int(input(\"Enter Number-2: \"))\n",
    "\n",
    "res=add_two_numbers(num1,num2)\n",
    "res"
   ]
  },
  {
   "cell_type": "code",
   "execution_count": 4,
   "id": "ab0acd3e",
   "metadata": {},
   "outputs": [
    {
     "data": {
      "text/plain": [
       "'Odd'"
      ]
     },
     "execution_count": 4,
     "metadata": {},
     "output_type": "execute_result"
    }
   ],
   "source": [
    "def check_even_or_odd(num:int)->str:\n",
    "    return \"Even\" if num%2==0 else \"Odd\"\n",
    "\n",
    "num=int(input(\"Enter number: \"))\n",
    "res=check_even_or_odd(num)\n",
    "res"
   ]
  },
  {
   "cell_type": "code",
   "execution_count": null,
   "id": "f1fd7b9c",
   "metadata": {},
   "outputs": [],
   "source": []
  }
 ],
 "metadata": {
  "kernelspec": {
   "display_name": "Python 3",
   "language": "python",
   "name": "python3"
  },
  "language_info": {
   "codemirror_mode": {
    "name": "ipython",
    "version": 3
   },
   "file_extension": ".py",
   "mimetype": "text/x-python",
   "name": "python",
   "nbconvert_exporter": "python",
   "pygments_lexer": "ipython3",
   "version": "3.13.2"
  }
 },
 "nbformat": 4,
 "nbformat_minor": 5
}
